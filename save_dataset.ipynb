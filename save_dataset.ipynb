{
 "cells": [
  {
   "cell_type": "code",
   "execution_count": 18,
   "metadata": {},
   "outputs": [],
   "source": [
    "import torch\n",
    "import torch.nn as nn\n",
    "import torch.optim as optim\n",
    "import torchvision\n",
    "import torchvision.transforms as transforms\n",
    "import torchvision.datasets as datasets\n",
    "from torch.utils.data import DataLoader\n",
    "\n",
    "import pytorch_grad_cam\n",
    "from pytorch_grad_cam import GradCAM\n",
    "from pytorch_grad_cam.utils.model_targets import ClassifierOutputTarget\n",
    "import pickle\n",
    "import numpy as np"
   ]
  },
  {
   "cell_type": "code",
   "execution_count": 19,
   "metadata": {},
   "outputs": [
    {
     "name": "stdout",
     "output_type": "stream",
     "text": [
      "Files already downloaded and verified\n",
      "Files already downloaded and verified\n"
     ]
    }
   ],
   "source": [
    "batch_size = 16\n",
    "\n",
    "transform = transforms.Compose([\n",
    "    transforms.Resize((224, 224)),  \n",
    "    transforms.ToTensor(),\n",
    "    transforms.Normalize((0.5, 0.5, 0.5), (0.5, 0.5, 0.5))\n",
    "])\n",
    "\n",
    "train_dataset = datasets.CIFAR10(root='./data', train=True, download=True, transform=transform)\n",
    "test_dataset = datasets.CIFAR10(root='./data', train=False, download=True, transform=transform)\n",
    "\n",
    "train_loader = DataLoader(train_dataset, batch_size=batch_size, shuffle=False, num_workers=0)\n",
    "test_loader = DataLoader(test_dataset, batch_size=batch_size, shuffle=False, num_workers=0)"
   ]
  },
  {
   "cell_type": "code",
   "execution_count": 20,
   "metadata": {},
   "outputs": [
    {
     "data": {
      "text/plain": [
       "<All keys matched successfully>"
      ]
     },
     "execution_count": 20,
     "metadata": {},
     "output_type": "execute_result"
    }
   ],
   "source": [
    "model = torchvision.models.resnet18(pretrained=True)\n",
    "model.fc = nn.Linear(model.fc.in_features, 10)  \n",
    "checkpoint = torch.load('./checkpoints/resnet18_cifar10_epho10.pth')\n",
    "model.load_state_dict(checkpoint)"
   ]
  },
  {
   "cell_type": "code",
   "execution_count": 21,
   "metadata": {},
   "outputs": [],
   "source": [
    "save_data = []"
   ]
  },
  {
   "cell_type": "markdown",
   "metadata": {},
   "source": [
    "### 保存测试集中的img,label，保存训练集只需要把test_loader换成train_loader"
   ]
  },
  {
   "cell_type": "code",
   "execution_count": 22,
   "metadata": {},
   "outputs": [],
   "source": [
    "save_ori_data = []\n",
    "for batch_idx, (images, labels) in enumerate(test_loader):\n",
    "    # images, labels = images.to(device), labels.to(device)\n",
    "    images_np = images.cpu().numpy()\n",
    "    labels_np = labels.cpu().numpy()\n",
    "    batch_data = (images_np, labels_np)\n",
    "    save_ori_data.extend([batch_data])\n",
    "\n",
    "# 将每个批次的数据拼接成一个大的数组\n",
    "concatenated_images = np.concatenate([item[0] for item in save_ori_data], axis=0)\n",
    "\n",
    "# 将每个批次的 labels 拼接成一个大的数组\n",
    "concatenated_labels = np.concatenate([item[1] for item in save_ori_data], axis=0)\n",
    "\n",
    "# 重新构建 save_data 列表\n",
    "save_ori_data = [(concatenated_images, concatenated_labels)]\n",
    "\n",
    "with open('./data/test_resize.pkl', 'wb') as file:\n",
    "    pickle.dump(save_ori_data, file)\n"
   ]
  },
  {
   "cell_type": "markdown",
   "metadata": {},
   "source": [
    "### 保存测试集中的ground_truth，保存训练集只需要把test_loader换成train_loader"
   ]
  },
  {
   "cell_type": "code",
   "execution_count": 23,
   "metadata": {},
   "outputs": [],
   "source": [
    "target_layers = [model.layer4[-1]]\n",
    "cam = GradCAM(model=model, target_layers=target_layers, use_cuda=True)\n",
    "\n",
    "save_gound_truth_data = []\n",
    "\n",
    "for batch_idx, (images, labels) in enumerate(test_loader):\n",
    "    images_np = images.cpu().numpy()\n",
    "    labels_np = labels.cpu().numpy()\n",
    "    targets = [ClassifierOutputTarget(label) for label in labels]\n",
    "    ground_truth = cam(input_tensor=images,targets=targets)\n",
    "\n",
    "    save_gound_truth_data.extend([ground_truth])\n",
    "\n",
    "concatenated_ground_truth = np.concatenate(save_gound_truth_data, axis=0)\n",
    "save_data = [(concatenated_ground_truth, save_gound_truth_data[0][1])]\n",
    "\n",
    "\n",
    "with open('./data/test_ground_truth_resize.pkl', 'wb') as file:\n",
    "\n",
    "    pickle.dump(save_gound_truth_data, file) "
   ]
  },
  {
   "cell_type": "markdown",
   "metadata": {},
   "source": [
    "### 将测试集/训练集拼接成（img，label，ground_truth）"
   ]
  },
  {
   "cell_type": "code",
   "execution_count": 25,
   "metadata": {},
   "outputs": [],
   "source": [
    "import pickle\n",
    "import numpy as np\n",
    "\n",
    "# 加载 test_resize.pkl 的数据\n",
    "with open('./data/test_resize.pkl', 'rb') as file:\n",
    "    loaded_data_resize = pickle.load(file)\n",
    "\n",
    "# 加载 test_ground_truth_resize.pkl 的数据\n",
    "with open('./data/test_ground_truth_resize.pkl', 'rb') as file:\n",
    "    loaded_data_ground_truth = pickle.load(file)\n",
    "\n",
    "# 将 test_ground_truth_resize.pkl 中的 loaded_data[0][0] 放入 test_resize.pkl 中的 loaded_data[0][2]\n",
    "loaded_data_resize[0] = (loaded_data_resize[0][0], loaded_data_resize[0][1], loaded_data_ground_truth[0][0])\n",
    "\n",
    "# 保存修改后的数据\n",
    "with open('./data/test_resize_modified.pkl', 'wb') as file:\n",
    "    pickle.dump(loaded_data_resize, file)\n"
   ]
  }
 ],
 "metadata": {
  "kernelspec": {
   "display_name": "backdoor",
   "language": "python",
   "name": "python3"
  },
  "language_info": {
   "codemirror_mode": {
    "name": "ipython",
    "version": 3
   },
   "file_extension": ".py",
   "mimetype": "text/x-python",
   "name": "python",
   "nbconvert_exporter": "python",
   "pygments_lexer": "ipython3",
   "version": "3.8.18"
  }
 },
 "nbformat": 4,
 "nbformat_minor": 2
}
